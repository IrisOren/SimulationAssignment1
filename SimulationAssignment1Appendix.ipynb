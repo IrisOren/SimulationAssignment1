{
 "cells": [
  {
   "cell_type": "code",
   "execution_count": 2,
   "metadata": {},
   "outputs": [],
   "source": [
    "import numpy as np\n",
    "import matplotlib.pyplot as plt\n",
    "%matplotlib inline\n",
    "from scipy import stats"
   ]
  },
  {
   "cell_type": "markdown",
   "metadata": {},
   "source": [
    "***Function definitions***"
   ]
  },
  {
   "cell_type": "code",
   "execution_count": 3,
   "metadata": {},
   "outputs": [],
   "source": [
    "#LCG function to create U(0,1) random variables\n",
    "########################\n",
    "#Inputs:\n",
    "#n - number of RVs to create\n",
    "#z0 - seed\n",
    "#m- modulus\n",
    "#a-multiplier\n",
    "#c-constant additive term\n",
    "#Outputs:\n",
    "#array of n rows containing (U,z)\n",
    "\n",
    "def LCG(n, z0, m, a, c):\n",
    "    i=0\n",
    "    u=0\n",
    "    out=np.empty([n, 2])\n",
    "    z=z0\n",
    "    while i<=n-1:\n",
    "        z=(a*z+c)%m\n",
    "        out[i]=[z/m,z]\n",
    "        i+=1\n",
    "    return out\n",
    "        \n",
    "        \n",
    "    \n"
   ]
  },
  {
   "cell_type": "code",
   "execution_count": 4,
   "metadata": {},
   "outputs": [],
   "source": [
    "##################################\n",
    "#Generate an ECDF from data\n",
    "############################\n",
    "#Input: data array\n",
    "#Output: ECDF array\n",
    "def generateECDF(data):\n",
    "    dataSort=np.sort(data, axis=None)\n",
    "    n=len(data)\n",
    "    ECDF=np.empty(n)\n",
    "    for i in range(len(dataSort)):\n",
    "        x=(1/n)*(i+1)\n",
    "        ECDF[i]=x\n",
    "        i+=1\n",
    "    return ECDF\n",
    "        "
   ]
  },
  {
   "cell_type": "code",
   "execution_count": 5,
   "metadata": {},
   "outputs": [],
   "source": [
    "#####################################\n",
    "#Runs a 2 dimensional serial test, dividing the unit square into k bins\n",
    "#####################################\n",
    "#Input:\n",
    "#data for testing - 2-d array\n",
    "#k - the number of bins\n",
    "#Output: Count of data points in each 2-d bin\n",
    "def serialTestFor2D(data, k):\n",
    "    d=2\n",
    "    BinCount=np.zeros((k,k))\n",
    "    for x in data:\n",
    "        BinXCounter=0\n",
    "        while BinXCounter<k:\n",
    "            if (x[0]>=BinXCounter*(1/k) and (x[0]<(BinXCounter+1)*(1/k))):\n",
    "                BinYCounter=0\n",
    "                while BinYCounter<k:\n",
    "                    if (x[1]>=BinYCounter*(1/k) and (x[1]<(BinYCounter+1)*(1/k))):\n",
    "                        BinCount[BinXCounter, BinYCounter]+=1\n",
    "                    BinYCounter+=1\n",
    "            BinXCounter+=1\n",
    "    return(BinCount)"
   ]
  },
  {
   "cell_type": "code",
   "execution_count": 6,
   "metadata": {},
   "outputs": [],
   "source": [
    "##########################\n",
    "#Runs an autocorrelation test \n",
    "#########################\n",
    "#Input:\n",
    "#data - 1-d array\n",
    "#lag - integer value for calculating autocorrelation\n",
    "#Output:\n",
    "#rho- correlation coefficient\n",
    "#A- test-statistic \n",
    "\n",
    "def AutoCorrelationTest(data, lag):\n",
    "    h=((len(data)-1)//lag)-1\n",
    "    Expectations=np.empty((h+1, 1))\n",
    "    i=0\n",
    "    j=0\n",
    "    while i in range(h+1):\n",
    "        if j+lag<len(data):\n",
    "            Expectations[i]=data[j]*data[j+lag]\n",
    "            j+=lag\n",
    "            i+=1\n",
    "        else:\n",
    "            break\n",
    "    rho=12*np.sum(Expectations)/(h+1)-3\n",
    "    A=rho/(np.sqrt((13*h+7)/(h+1)**2))\n",
    "    return(rho, A)\n",
    "    "
   ]
  },
  {
   "cell_type": "code",
   "execution_count": 7,
   "metadata": {},
   "outputs": [],
   "source": [
    "##########################\n",
    "#Inverse function for Weibull CDF\n",
    "############################\n",
    "#Input:\n",
    "#U - float between (0,1)\n",
    "#alpha, beta, parameters for Weibull\n",
    "#Output\n",
    "#x - Weibull distributed random variable\n",
    "def WeibullRVGenerator(U, alpha, beta):\n",
    "    x=alpha*(-np.log(1-U))**(1/beta)\n",
    "    return x"
   ]
  },
  {
   "cell_type": "code",
   "execution_count": 8,
   "metadata": {},
   "outputs": [],
   "source": [
    "#####################\n",
    "#Modified inverse function for Weibull variable with p=0.2 used for question 4 \n",
    "######################\n",
    "#Input:\n",
    "#U - float between (0,1)\n",
    "#alpha, beta, parameters for Weibull\n",
    "#Output\n",
    "#x - random variable from modified distribution\n",
    "def WeibullRVGeneratorMod(U, alpha, beta):\n",
    "    x=alpha*(-np.log((1-U)/0.2))**(1/beta)\n",
    "    return x"
   ]
  },
  {
   "cell_type": "code",
   "execution_count": 9,
   "metadata": {},
   "outputs": [],
   "source": [
    "########################\n",
    "#Uniform Random number generator on a specified interval\n",
    "###############################\n",
    "#Input\n",
    "#U - a float betweek (0,1)\n",
    "#a,b - bounds of interval\n",
    "#Output:\n",
    "# x - uniform RV on (a,b)  \n",
    "def UniformAB(U, a, b):\n",
    "    x=(b-a)*U+a\n",
    "    return x"
   ]
  },
  {
   "cell_type": "markdown",
   "metadata": {},
   "source": [
    "*********************************************"
   ]
  },
  {
   "cell_type": "markdown",
   "metadata": {},
   "source": [
    "\\subsection{Question 1}\n",
    "\n",
    "\n",
    "**KS test**\n"
   ]
  },
  {
   "cell_type": "code",
   "execution_count": 10,
   "metadata": {},
   "outputs": [
    {
     "data": {
      "text/plain": [
       "'The  LCG generated data:'"
      ]
     },
     "metadata": {},
     "output_type": "display_data"
    },
    {
     "data": {
      "text/plain": [
       "array([0.3997, 0.7388, 0.156 , 0.6514, 0.2249, 0.8765, 0.6062, 0.4141,\n",
       "       0.3   , 0.2642, 0.3064, 0.4268, 0.6252, 0.9019, 0.2566, 0.6895,\n",
       "       0.2004, 0.7896, 0.4568, 0.2021, 0.0256, 0.9272, 0.907 , 0.9648,\n",
       "       0.1008])"
      ]
     },
     "metadata": {},
     "output_type": "display_data"
    }
   ],
   "source": [
    "#Create n=25 U(0,1) random variables and sort in ascending order\n",
    "\n",
    "n=25\n",
    "z0=568\n",
    "m=4096\n",
    "a=3649\n",
    "c=1581\n",
    "LCGData=LCG(n, z0, m, a, c)[:,0]\n",
    "\n",
    "display('The  LCG generated data:')\n",
    "display(np.round(LCGData, 4))\n",
    "LCGDataSort=np.sort(LCGData, axis=0)\n",
    "LCGDataSort=LCGDataSort.reshape(25,1)\n",
    "\n"
   ]
  },
  {
   "cell_type": "code",
   "execution_count": 11,
   "metadata": {},
   "outputs": [],
   "source": [
    "#Generate an ECDF for the data\n",
    "ECDFData=generateECDF(LCGData)\n",
    "ECDFData=ECDFData.reshape(25,1)\n"
   ]
  },
  {
   "cell_type": "code",
   "execution_count": 12,
   "metadata": {},
   "outputs": [
    {
     "data": {
      "text/plain": [
       "'D=0.10321289062500005'"
      ]
     },
     "metadata": {},
     "output_type": "display_data"
    },
    {
     "data": {
      "text/plain": [
       "'KS test statistic=0.53'"
      ]
     },
     "metadata": {},
     "output_type": "display_data"
    }
   ],
   "source": [
    "#Run a KS test\n",
    "#############\n",
    "#Compute the distance variables of |Fn(x)-F(x)|\n",
    "DPlus=np.abs(ECDFData.reshape(25,1)-LCGDataSort.reshape(25,1))\n",
    "DMinus=np.empty(25)\n",
    "for i in range(len(LCGDataSort)):\n",
    "    if i==0:\n",
    "        DMinus[i]=LCGDataSort[i]\n",
    "    else:\n",
    "        DMinus[i]=np.abs(ECDFData.reshape(25,1)[i-1]-LCGDataSort[i])  #Absolute value for magnitude of distance\n",
    "        \n",
    "DMinus=DMinus.reshape(25,1)\n",
    "\n",
    "#Combine D+, D- into an array\n",
    "D=np.concatenate((DPlus, DMinus), axis=1)\n",
    "\n",
    "#Find maximum of D\n",
    "DMax=np.max(D)\n",
    "display('D='+str(DMax))\n",
    "\n",
    "#Compute test statistic from DMax\n",
    "KSStat=round((np.sqrt(n)+0.12+0.11/np.sqrt(n))*DMax, 2)\n",
    "display('KS test statistic='+str(KSStat))\n",
    "\n",
    "\n",
    "\n",
    "\n"
   ]
  },
  {
   "cell_type": "code",
   "execution_count": 13,
   "metadata": {},
   "outputs": [
    {
     "data": {
      "text/plain": [
       "KstestResult(statistic=0.10321289062500005, pvalue=0.9527306510698654)"
      ]
     },
     "execution_count": 13,
     "metadata": {},
     "output_type": "execute_result"
    }
   ],
   "source": [
    "stats.kstest(LCGData, 'uniform')"
   ]
  },
  {
   "cell_type": "markdown",
   "metadata": {},
   "source": [
    "-------------------------\n",
    "\n",
    "**Serial test**\n"
   ]
  },
  {
   "cell_type": "code",
   "execution_count": 14,
   "metadata": {},
   "outputs": [
    {
     "data": {
      "text/plain": [
       "'Observed Counts'"
      ]
     },
     "metadata": {},
     "output_type": "display_data"
    },
    {
     "data": {
      "text/plain": [
       "array([[3.],\n",
       "       [3.],\n",
       "       [5.],\n",
       "       [2.],\n",
       "       [1.],\n",
       "       [4.],\n",
       "       [0.],\n",
       "       [2.],\n",
       "       [5.]])"
      ]
     },
     "metadata": {},
     "output_type": "display_data"
    },
    {
     "data": {
      "text/plain": [
       "'Expected Counts=2.7777777777777777'"
      ]
     },
     "metadata": {},
     "output_type": "display_data"
    },
    {
     "data": {
      "text/plain": [
       "'The test statistic for serial test is 8.48'"
      ]
     },
     "metadata": {},
     "output_type": "display_data"
    },
    {
     "data": {
      "text/plain": [
       "'The probability of observing a chi-squared test statistic=8.48 assuming the data came from a distribution of k^d-1 degrees of freedom'"
      ]
     },
     "metadata": {},
     "output_type": "display_data"
    },
    {
     "data": {
      "text/plain": [
       "0.39"
      ]
     },
     "metadata": {},
     "output_type": "display_data"
    }
   ],
   "source": [
    "###########################\n",
    "##Running a serial test on 50 U(0,1 ) RVs\n",
    "##############\n",
    "#Generate 50 U(0,1) RVs\n",
    "n=50\n",
    "LCGData50=LCG(n, z0, m, a, c)[:,0]\n",
    "LCGData50=LCGData50.reshape(50,1)\n",
    "\n",
    "#Pair the data into 2-d vectors\n",
    "LCGDataPaired=LCGData50.reshape((25,2))\n",
    "\n",
    "\n",
    "k=3\n",
    "d=2\n",
    "#Running a 2-d serial test with k=3\n",
    "ObservedCounts=serialTestFor2D(LCGDataPaired, k)\n",
    "display('Observed Counts')\n",
    "\n",
    "ObservedCounts=ObservedCounts.reshape(k**d, 1)\n",
    "display(ObservedCounts)\n",
    "ExpectedCounts=n/(2*k**d)\n",
    "display('Expected Counts='+str(ExpectedCounts))\n",
    "\n",
    "SerialTestStat=np.sum((ObservedCounts-ExpectedCounts)**2/ExpectedCounts)\n",
    "display('The test statistic for serial test is '+str(SerialTestStat))\n",
    "\n",
    "#Get a p-value using chi-sq(n-1) \n",
    "display('The probability of observing a chi-squared test statistic=' +str(SerialTestStat)+' assuming the data came from a distribution of k^d-1 degrees of freedom')\n",
    "display(round(1-stats.chi2.cdf(SerialTestStat, k**d-1),2))\n"
   ]
  },
  {
   "cell_type": "markdown",
   "metadata": {},
   "source": [
    "\n",
    "---------------\n",
    "**Autocorrelation test** \n"
   ]
  },
  {
   "cell_type": "code",
   "execution_count": 15,
   "metadata": {},
   "outputs": [
    {
     "data": {
      "text/plain": [
       "'Autocorrelation Test output:'"
      ]
     },
     "metadata": {},
     "output_type": "display_data"
    },
    {
     "data": {
      "text/plain": [
       "array([-2.3034, -1.9676])"
      ]
     },
     "metadata": {},
     "output_type": "display_data"
    },
    {
     "data": {
      "text/plain": [
       "'The probability of observing the data, assuming that the null hypothesis (that there is no correlation between the data) is true: 0.049'"
      ]
     },
     "metadata": {},
     "output_type": "display_data"
    }
   ],
   "source": [
    "######################\n",
    "#Running an autocorrelation test on 40 U(0,1) RVs\n",
    "##################\n",
    "#Generating 40 RVs\n",
    "LCGAuto=LCG(40, z0, m, a, c)[:,0]\n",
    "#Running the autocorrelation test with lag =4\n",
    "\n",
    "AutoTest=AutoCorrelationTest(LCGAuto, 4)\n",
    "display('Autocorrelation Test output:')\n",
    "display(np.round(AutoTest, 4))\n",
    "\n",
    "#Calculating the \n",
    "pval=round(2*stats.norm.cdf(AutoTest[1]), 3)\n",
    "display('The probability of observing the data, assuming that the null hypothesis (that there is no correlation between the data) is true: '+str(pval))"
   ]
  },
  {
   "cell_type": "markdown",
   "metadata": {},
   "source": [
    "-------------------------------\n",
    "\\section*{Question 2}\n",
    " "
   ]
  },
  {
   "cell_type": "code",
   "execution_count": 16,
   "metadata": {},
   "outputs": [
    {
     "data": {
      "text/plain": [
       "'5 Random numbers from Weibull(2,4)'"
      ]
     },
     "metadata": {},
     "output_type": "display_data"
    },
    {
     "data": {
      "text/plain": [
       "array([1.6904, 2.1528, 1.2835, 2.0263, 1.4208])"
      ]
     },
     "metadata": {},
     "output_type": "display_data"
    },
    {
     "data": {
      "text/plain": [
       "Text(0.5,1,'Histogram of x from Weibull alpha, beta = 2,4')"
      ]
     },
     "execution_count": 16,
     "metadata": {},
     "output_type": "execute_result"
    },
    {
     "data": {
      "image/png": "[encoded data removed]",
      "text/plain": [
       "<Figure size 432x288 with 1 Axes>"
      ]
     },
     "metadata": {},
     "output_type": "display_data"
    }
   ],
   "source": [
    "###########################\n",
    "#Generating Random numbers based on inversion of Weibull distribution\n",
    "############\n",
    "#Generate 5 U(0,1) RVs\n",
    "n=10000\n",
    "LCGDataWeibull=LCG(n, z0, m, a, c)[:,0]\n",
    "\n",
    "#Inverse Weibull of data with Weibull parameters alpha and beta\n",
    "alpha=2\n",
    "beta=4\n",
    "\n",
    "out=WeibullRVGenerator(LCGDataWeibull, alpha, beta)\n",
    "display('5 Random numbers from Weibull(2,4)')\n",
    "display(np.round(out[0:5], 4))\n",
    "plt.hist(out, bins=100)\n",
    "plt.xlabel('x')\n",
    "plt.ylabel('count')\n",
    "plt.title('Histogram of x from Weibull alpha, beta = 2,4')"
   ]
  },
  {
   "cell_type": "markdown",
   "metadata": {},
   "source": [
    "\\section*{Question 3}\n",
    "\n"
   ]
  },
  {
   "cell_type": "code",
   "execution_count": 17,
   "metadata": {},
   "outputs": [
    {
     "data": {
      "text/plain": [
       "'Three non-uniform RVs generated from f:'"
      ]
     },
     "metadata": {},
     "output_type": "display_data"
    },
    {
     "data": {
      "text/plain": [
       "array([2.5111, 0.9802, 1.4128])"
      ]
     },
     "metadata": {},
     "output_type": "display_data"
    },
    {
     "data": {
      "text/plain": [
       "Text(0.5,1,'Histogram of x')"
      ]
     },
     "execution_count": 17,
     "metadata": {},
     "output_type": "execute_result"
    },
    {
     "data": {
      "image/png": "[encoded data removed]",
      "text/plain": [
       "<Figure size 432x288 with 1 Axes>"
      ]
     },
     "metadata": {},
     "output_type": "display_data"
    }
   ],
   "source": [
    "######\n",
    "#Generating RV by acceptance rejection on given f\n",
    "############\n",
    "ntotal=100000\n",
    "z=z0\n",
    "A=0\n",
    "B=2*np.pi\n",
    "K=3/(4*np.pi)\n",
    "out=np.empty(ntotal)\n",
    "\n",
    "f=lambda x: (1/(2*np.pi)+np.sin(x)/(4*np.pi))\n",
    "\n",
    "\n",
    "for i in range(ntotal):\n",
    "    accept=0\n",
    "    x=0\n",
    "    while accept==0:\n",
    "        LCGData=LCG(1, z, m, a, c)\n",
    "        U1=LCGData[:,0]\n",
    "        z=LCGData[:,1]\n",
    "        U1=UniformAB(U1,A,B)\n",
    "        LCGData=LCG(1, z, m, a, c)\n",
    "        U2=LCGData[:,0]\n",
    "        z=LCGData[:,1]\n",
    "        U2=UniformAB(U2,0,K)\n",
    "        if U2<=f(U1):\n",
    "            accept=1\n",
    "            x=U1\n",
    "    out[i]=x\n",
    "#f=lambda x: (1/(2*np.pi)+np.sin(x)/(4*np.pi))\n",
    "display('Three non-uniform RVs generated from f:')\n",
    "display(np.round(out[0:3], 4))\n",
    "plt.hist(out, bins=100)\n",
    "plt.xlabel('x')\n",
    "plt.ylabel('count')\n",
    "plt.title('Histogram of x')\n",
    "    "
   ]
  },
  {
   "cell_type": "markdown",
   "metadata": {},
   "source": [
    "\\section*{Question 4}"
   ]
  },
  {
   "cell_type": "markdown",
   "metadata": {},
   "source": [
    "***Inversion***"
   ]
  },
  {
   "cell_type": "code",
   "execution_count": 18,
   "metadata": {},
   "outputs": [
    {
     "data": {
      "text/plain": [
       "'5 RVs generated:'"
      ]
     },
     "metadata": {},
     "output_type": "display_data"
    },
    {
     "data": {
      "text/plain": [
       "array([[5.],\n",
       "       [5.],\n",
       "       [5.],\n",
       "       [5.],\n",
       "       [5.]])"
      ]
     },
     "metadata": {},
     "output_type": "display_data"
    },
    {
     "data": {
      "text/plain": [
       "Text(0.5,1,'Histogram of X by inversion')"
      ]
     },
     "execution_count": 18,
     "metadata": {},
     "output_type": "execute_result"
    },
    {
     "data": {
      "image/png": "[encoded data removed]",
      "text/plain": [
       "<Figure size 432x288 with 1 Axes>"
      ]
     },
     "metadata": {},
     "output_type": "display_data"
    }
   ],
   "source": [
    "#########\n",
    "#Generating RV by inversion of F(X)\n",
    "#######\n",
    "n=10000\n",
    "z=z0\n",
    "alpha=6\n",
    "beta=0.5\n",
    "F=lambda x: 0.2*(1-np.exp(-(x/alpha)**beta))\n",
    "out=np.empty((n,1))\n",
    "Fminus=0.2*F(5)\n",
    "\n",
    "Fplus=Fminus+0.8\n",
    "\n",
    "for i in range(n):\n",
    "    LCGSample=LCG(1, z, m, a, c)\n",
    "    U=LCGSample[0][0]\n",
    "    z=LCGSample[0][1]\n",
    "    if U<=Fminus:\n",
    "        X=WeibullRVGenerator(U, alpha, beta)\n",
    "    elif U>Fminus and U<Fplus:\n",
    "        X=5\n",
    "    else:\n",
    "        X=WeibullRVGeneratorMod(U, alpha, beta)\n",
    "    out[i]=X\n",
    "    \n",
    "display('5 RVs generated:')\n",
    "display(np.round(out[0:5], 5))\n",
    "\n",
    "plt.hist(out, bins=100)\n",
    "plt.xlabel('x')\n",
    "plt.ylabel('count')\n",
    "plt.title('Histogram of X by inversion')\n",
    "  "
   ]
  },
  {
   "cell_type": "markdown",
   "metadata": {},
   "source": [
    "\n",
    "-----------------\n",
    "\n",
    "\\section*{Question 5}\n",
    "\n",
    "***Composition***\n"
   ]
  },
  {
   "cell_type": "code",
   "execution_count": 19,
   "metadata": {},
   "outputs": [
    {
     "data": {
      "text/plain": [
       "'5 RVs generated:'"
      ]
     },
     "metadata": {},
     "output_type": "display_data"
    },
    {
     "data": {
      "text/plain": [
       "array([[5.],\n",
       "       [5.]])"
      ]
     },
     "metadata": {},
     "output_type": "display_data"
    },
    {
     "data": {
      "text/plain": [
       "Text(0.5,1,'Histogram of x by composition')"
      ]
     },
     "execution_count": 19,
     "metadata": {},
     "output_type": "execute_result"
    },
    {
     "data": {
      "image/png": "[encoded data removed]",
      "text/plain": [
       "<Figure size 432x288 with 1 Axes>"
      ]
     },
     "metadata": {},
     "output_type": "display_data"
    }
   ],
   "source": [
    "#########\n",
    "#Generating RV by composition of F(X)\n",
    "#######\n",
    "\n",
    "n=10000\n",
    "z=z0\n",
    "alpha=6\n",
    "beta=0.5\n",
    "out=np.empty((n,1))\n",
    "for i in range(n):\n",
    "    LCGSample=LCG(1, z, m, a, c)\n",
    "    U1=LCGSample[0][0]\n",
    "    z=LCGSample[0][1]\n",
    "    LCGSample=LCG(1, z, m, a, c)\n",
    "    U2=LCGSample[0][0]\n",
    "    z=LCGSample[0][1]\n",
    "    if U1<=0.8:\n",
    "        X=5\n",
    "    else:\n",
    "        X=WeibullRVGenerator(U2, alpha, beta)\n",
    "    out[i]=X\n",
    "    \n",
    "display('5 RVs generated:')\n",
    "display(out[0:2])\n",
    "\n",
    "\n",
    "plt.hist(out, bins=100)\n",
    "plt.xlabel('x')\n",
    "plt.ylabel('count')\n",
    "plt.title('Histogram of x by composition')"
   ]
  }
 ],
 "metadata": {
  "kernelspec": {
   "display_name": "Python 3",
   "language": "python",
   "name": "python3"
  },
  "language_info": {
   "codemirror_mode": {
    "name": "ipython",
    "version": 3
   },
   "file_extension": ".py",
   "mimetype": "text/x-python",
   "name": "python",
   "nbconvert_exporter": "python",
   "pygments_lexer": "ipython3",
   "version": "3.6.5"
  }
 },
 "nbformat": 4,
 "nbformat_minor": 2
}
